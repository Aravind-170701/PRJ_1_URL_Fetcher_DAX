{
 "cells": [
  {
   "cell_type": "markdown",
   "metadata": {},
   "source": [
    "# Search Engine Scraping "
   ]
  },
  {
   "cell_type": "code",
   "execution_count": null,
   "metadata": {},
   "outputs": [],
   "source": [
    "# Importing Libraries\n",
    "\n",
    "import numpy as np\n",
    "import pandas as pd\n",
    "import traceback\n",
    "from lxml import html, etree\n",
    "from io import StringIO\n",
    "import re\n",
    "from selenium import webdriver\n",
    "from webdriver_manager.chrome import ChromeDriverManager\n",
    "from selenium.webdriver.chrome.options import Options\n",
    "import traceback\n",
    "from selenium.webdriver.common.by import By"
   ]
  },
  {
   "cell_type": "code",
   "execution_count": null,
   "metadata": {},
   "outputs": [],
   "source": [
    "# Filtering Dataframes that do not have a website URL but do contain a phone number\n",
    "\n",
    "dataframe = pd.read_csv(\"input_data.csv\",usecols=[\"infogroup_id\",\"name\",\"phone\",\"street\",\"city\",\"labels.state\",\"website\",\"labels.location_parent_relationship\"])\n",
    "\n",
    "dataframe = dataframe[dataframe['website'].isna()]\n",
    "\n",
    "filtered_dataframe = dataframe[(~dataframe['phone'].isna())]\n",
    "\n",
    "filtered_dataframe.reset_index(inplace = True, drop = True)"
   ]
  },
  {
   "cell_type": "code",
   "execution_count": null,
   "metadata": {},
   "outputs": [],
   "source": [
    "# Scraper Class which scrapes search engine \n",
    "# to fetch website URL based on the given query\n",
    "\n",
    "class SearchEngineScraper:\n",
    "    \n",
    "    def __init__(self):\n",
    "        \n",
    "        options = Options()\n",
    "        options.add_argument('--headless')\n",
    "        options.add_argument('--disable-gpu')\n",
    "        self.driver = webdriver.Chrome(ChromeDriverManager().install(),options=options)\n",
    "        \n",
    "\n",
    "    def google_scrape(self, query: str) -> str:\n",
    "\n",
    "        url = \"https://www.google.com/search?q=\"+ query + \"&gl=us&hl=en&pws=0\"\n",
    "\n",
    "        self.driver.get(url)\n",
    "\n",
    "        urlsXpath = '//div[@class=\"yuRUbf\"]/a[@href]'\n",
    "\n",
    "        linkElements = self.driver.find_elements(By.XPATH, urlsXpath)\n",
    "\n",
    "        links = []\n",
    "\n",
    "        for linkElement in linkElements:\n",
    "            links.append(linkElement.get_attribute(\"href\"))\n",
    "\n",
    "        return links[0]\n",
    "    \n",
    "    \n",
    "    def duckduckgo_scrape(self, query: str) -> str:\n",
    "\n",
    "        url = \"https://duckduckgo.com/?q=\"+ query + \"&gl=us&hl=en&pws=0\"\n",
    "\n",
    "        self.driver.get(url)\n",
    "\n",
    "        urlsXpath = '//a[@data-testid = \"result-extras-url-link\"]'\n",
    "\n",
    "        linkElements = self.driver.find_elements(By.XPATH, urlsXpath)\n",
    "\n",
    "        links = []\n",
    "\n",
    "        for linkElement in linkElements:\n",
    "            links.append(linkElement.get_attribute(\"href\"))\n",
    "\n",
    "        return links[0]\n",
    "\n",
    "    "
   ]
  },
  {
   "cell_type": "code",
   "execution_count": null,
   "metadata": {},
   "outputs": [],
   "source": [
    "# Google Search Engine scraping based on a query (Name + Phone)\n",
    "\n",
    "scraper = SearchEngineScraper()\n",
    "\n",
    "for i,row in filtered_dataframe.iterrows():\n",
    "\n",
    "    query = str(row['name']) + \" \" + str(row['phone'])\n",
    "    \n",
    "    try:\n",
    "        website_link = scraper.google_scrape(query)\n",
    "        filtered_dataframe.loc[i, 'website'] = website_link\n",
    "    except:\n",
    "        traceback.print_exc()\n",
    "        break\n",
    "\n",
    "filtered_dataframe\n"
   ]
  },
  {
   "cell_type": "code",
   "execution_count": null,
   "metadata": {},
   "outputs": [],
   "source": [
    "# DuckDuckGo Search Engine scraping based on a query (Name + Phone)\n",
    "\n",
    "scraper = SearchEngineScraper()\n",
    "\n",
    "for i,row in filtered_dataframe.iterrows():\n",
    "\n",
    "    query = str(row['name']) + \" \" + str(row['phone'])\n",
    "    \n",
    "    try:\n",
    "        website_link = scraper.duckduckgo_scrape(query)\n",
    "        filtered_dataframe.loc[i, 'website'] = website_link\n",
    "    except:\n",
    "        traceback.print_exc()\n",
    "        break\n",
    "\n",
    "filtered_dataframe"
   ]
  }
 ],
 "metadata": {
  "kernelspec": {
   "display_name": "Python 3 (ipykernel)",
   "language": "python",
   "name": "python3"
  },
  "language_info": {
   "codemirror_mode": {
    "name": "ipython",
    "version": 3
   },
   "file_extension": ".py",
   "mimetype": "text/x-python",
   "name": "python",
   "nbconvert_exporter": "python",
   "pygments_lexer": "ipython3",
   "version": "3.9.13"
  },
  "vscode": {
   "interpreter": {
    "hash": "2a8dfe095fce2b5e88c64a2c3ee084c8e0e0d70b23e7b95b1cfb538be294c5c8"
   }
  }
 },
 "nbformat": 4,
 "nbformat_minor": 2
}
